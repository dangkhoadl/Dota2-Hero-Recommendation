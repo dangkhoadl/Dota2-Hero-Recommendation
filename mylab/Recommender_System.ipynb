{
 "cells": [
  {
   "cell_type": "code",
   "execution_count": 1,
   "metadata": {},
   "outputs": [],
   "source": [
    "import numpy as np\n",
    "import pandas as pd\n",
    "import math"
   ]
  },
  {
   "cell_type": "markdown",
   "metadata": {},
   "source": [
    "https://medium.com/ai-society/a-concise-recommender-systems-tutorial-fa40d5a9c0fa"
   ]
  },
  {
   "cell_type": "code",
   "execution_count": 2,
   "metadata": {},
   "outputs": [],
   "source": [
    "data = {\n",
    "    'Alan Perlis': { \n",
    "    'Artificial intelligence': 1.46, \n",
    "    'Systems programming': 5.0, \n",
    "    'Software engineering': 3.34, \n",
    "    'Databases': 2.32\n",
    "    },\n",
    "'Marvin Minsky': { \n",
    "    'Artificial intelligence': 5.0, \n",
    "    'Systems programming': 2.54,\n",
    "    'Computation': 4.32, \n",
    "    'Algorithms': 2.76\n",
    "    },\n",
    "'John McCarthy': { \n",
    "    'Artificial intelligence': 5.0, \n",
    "    'Programming language theory': 4.72, \n",
    "    'Systems programming': 3.25, \n",
    "    'Concurrency': 3.61, \n",
    "    'Formal methods': 3.58,\n",
    "    'Computation': 3.23, \n",
    "    'Algorithms': 3.03 \n",
    "    },\n",
    "'Edsger Dijkstra': { \n",
    "    'Programming language theory': 4.34, \n",
    "    'Systems programming': 4.52,\n",
    "    'Software engineering': 4.04, \n",
    "    'Concurrency': 3.97,\n",
    "    'Formal methods': 5.0, \n",
    "    'Algorithms': 4.92 \n",
    "    },\n",
    "'Donald Knuth': { \n",
    "    'Programming language theory': 4.33, \n",
    "    'Systems programming': 3.57,\n",
    "    'Computation': 4.39, \n",
    "    'Algorithms': 5.0 \n",
    "    },\n",
    "'John Backus': { \n",
    "    'Programming language theory': 4.58, \n",
    "    'Systems programming': 4.43,\n",
    "    'Software engineering': 4.38, \n",
    "    'Formal methods': 2.42, \n",
    "    'Databases': 2.80 \n",
    "    },\n",
    "'Robert Floyd': { \n",
    "    'Programming language theory': 4.24, \n",
    "    'Systems programming': 2.17,\n",
    "    'Concurrency': 2.92, \n",
    "    'Formal methods': 5.0, \n",
    "    'Computation': 3.18, \n",
    "    'Algorithms': 5.0 \n",
    "    },\n",
    "'Tony Hoare': { \n",
    "    'Programming language theory': 4.64, \n",
    "    'Systems programming': 4.38,\n",
    "    'Software engineering': 3.62, \n",
    "    'Concurrency': 4.88,\n",
    "    'Formal methods': 4.72, \n",
    "    'Algorithms': 4.38\n",
    "    },\n",
    "'Edgar Codd': { \n",
    "    'Systems programming': 4.60, \n",
    "    'Software engineering': 3.54,\n",
    "    'Concurrency': 4.28, \n",
    "    'Formal methods': 1.53, \n",
    "    'Databases': 5.0\n",
    "    },\n",
    "'Dennis Ritchie': { \n",
    "    'Programming language theory': 3.45, \n",
    "    'Systems programming': 5.0,\n",
    "    'Software engineering': 4.83,\n",
    "    },\n",
    "'Niklaus Wirth': { \n",
    "    'Programming language theory': 4.23, \n",
    "    'Systems programming': 4.22,\n",
    "    'Software engineering': 4.74, \n",
    "    'Formal methods': 3.83, \n",
    "    'Algorithms': 3.95\n",
    "    },\n",
    "'Robin Milner': { \n",
    "    'Programming language theory': 5.0, \n",
    "    'Systems programming': 1.66,\n",
    "    'Concurrency': 4.62, \n",
    "    'Formal methods': 3.94,\n",
    "    },\n",
    "'Leslie Lamport': { \n",
    "    'Programming language theory': 1.5, \n",
    "    'Systems programming': 2.76,\n",
    "    'Software engineering': 3.76, \n",
    "    'Concurrency': 5.0,\n",
    "    'Formal methods': 4.93, \n",
    "    'Algorithms': 4.63\n",
    "    },\n",
    "'Michael Stonebraker': { \n",
    "    'Systems programming': 4.67, \n",
    "    'Software engineering': 3.86,\n",
    "    'Concurrency': 4.14, \n",
    "    'Databases': 5.0,\n",
    "    },\n",
    "}"
   ]
  },
  {
   "cell_type": "code",
   "execution_count": 3,
   "metadata": {},
   "outputs": [
    {
     "data": {
      "text/html": [
       "<div>\n",
       "<style scoped>\n",
       "    .dataframe tbody tr th:only-of-type {\n",
       "        vertical-align: middle;\n",
       "    }\n",
       "\n",
       "    .dataframe tbody tr th {\n",
       "        vertical-align: top;\n",
       "    }\n",
       "\n",
       "    .dataframe thead th {\n",
       "        text-align: right;\n",
       "    }\n",
       "</style>\n",
       "<table border=\"1\" class=\"dataframe\">\n",
       "  <thead>\n",
       "    <tr style=\"text-align: right;\">\n",
       "      <th></th>\n",
       "      <th>Alan Perlis</th>\n",
       "      <th>Marvin Minsky</th>\n",
       "      <th>John McCarthy</th>\n",
       "      <th>Edsger Dijkstra</th>\n",
       "      <th>Donald Knuth</th>\n",
       "      <th>John Backus</th>\n",
       "      <th>Robert Floyd</th>\n",
       "      <th>Tony Hoare</th>\n",
       "      <th>Edgar Codd</th>\n",
       "      <th>Dennis Ritchie</th>\n",
       "      <th>Niklaus Wirth</th>\n",
       "      <th>Robin Milner</th>\n",
       "      <th>Leslie Lamport</th>\n",
       "      <th>Michael Stonebraker</th>\n",
       "    </tr>\n",
       "  </thead>\n",
       "  <tbody>\n",
       "    <tr>\n",
       "      <th>Algorithms</th>\n",
       "      <td>NaN</td>\n",
       "      <td>2.76</td>\n",
       "      <td>3.03</td>\n",
       "      <td>4.92</td>\n",
       "      <td>5.00</td>\n",
       "      <td>NaN</td>\n",
       "      <td>5.00</td>\n",
       "      <td>4.38</td>\n",
       "      <td>NaN</td>\n",
       "      <td>NaN</td>\n",
       "      <td>3.95</td>\n",
       "      <td>NaN</td>\n",
       "      <td>4.63</td>\n",
       "      <td>NaN</td>\n",
       "    </tr>\n",
       "    <tr>\n",
       "      <th>Artificial intelligence</th>\n",
       "      <td>1.46</td>\n",
       "      <td>5.00</td>\n",
       "      <td>5.00</td>\n",
       "      <td>NaN</td>\n",
       "      <td>NaN</td>\n",
       "      <td>NaN</td>\n",
       "      <td>NaN</td>\n",
       "      <td>NaN</td>\n",
       "      <td>NaN</td>\n",
       "      <td>NaN</td>\n",
       "      <td>NaN</td>\n",
       "      <td>NaN</td>\n",
       "      <td>NaN</td>\n",
       "      <td>NaN</td>\n",
       "    </tr>\n",
       "    <tr>\n",
       "      <th>Computation</th>\n",
       "      <td>NaN</td>\n",
       "      <td>4.32</td>\n",
       "      <td>3.23</td>\n",
       "      <td>NaN</td>\n",
       "      <td>4.39</td>\n",
       "      <td>NaN</td>\n",
       "      <td>3.18</td>\n",
       "      <td>NaN</td>\n",
       "      <td>NaN</td>\n",
       "      <td>NaN</td>\n",
       "      <td>NaN</td>\n",
       "      <td>NaN</td>\n",
       "      <td>NaN</td>\n",
       "      <td>NaN</td>\n",
       "    </tr>\n",
       "    <tr>\n",
       "      <th>Concurrency</th>\n",
       "      <td>NaN</td>\n",
       "      <td>NaN</td>\n",
       "      <td>3.61</td>\n",
       "      <td>3.97</td>\n",
       "      <td>NaN</td>\n",
       "      <td>NaN</td>\n",
       "      <td>2.92</td>\n",
       "      <td>4.88</td>\n",
       "      <td>4.28</td>\n",
       "      <td>NaN</td>\n",
       "      <td>NaN</td>\n",
       "      <td>4.62</td>\n",
       "      <td>5.00</td>\n",
       "      <td>4.14</td>\n",
       "    </tr>\n",
       "    <tr>\n",
       "      <th>Databases</th>\n",
       "      <td>2.32</td>\n",
       "      <td>NaN</td>\n",
       "      <td>NaN</td>\n",
       "      <td>NaN</td>\n",
       "      <td>NaN</td>\n",
       "      <td>2.80</td>\n",
       "      <td>NaN</td>\n",
       "      <td>NaN</td>\n",
       "      <td>5.00</td>\n",
       "      <td>NaN</td>\n",
       "      <td>NaN</td>\n",
       "      <td>NaN</td>\n",
       "      <td>NaN</td>\n",
       "      <td>5.00</td>\n",
       "    </tr>\n",
       "    <tr>\n",
       "      <th>Formal methods</th>\n",
       "      <td>NaN</td>\n",
       "      <td>NaN</td>\n",
       "      <td>3.58</td>\n",
       "      <td>5.00</td>\n",
       "      <td>NaN</td>\n",
       "      <td>2.42</td>\n",
       "      <td>5.00</td>\n",
       "      <td>4.72</td>\n",
       "      <td>1.53</td>\n",
       "      <td>NaN</td>\n",
       "      <td>3.83</td>\n",
       "      <td>3.94</td>\n",
       "      <td>4.93</td>\n",
       "      <td>NaN</td>\n",
       "    </tr>\n",
       "    <tr>\n",
       "      <th>Programming language theory</th>\n",
       "      <td>NaN</td>\n",
       "      <td>NaN</td>\n",
       "      <td>4.72</td>\n",
       "      <td>4.34</td>\n",
       "      <td>4.33</td>\n",
       "      <td>4.58</td>\n",
       "      <td>4.24</td>\n",
       "      <td>4.64</td>\n",
       "      <td>NaN</td>\n",
       "      <td>3.45</td>\n",
       "      <td>4.23</td>\n",
       "      <td>5.00</td>\n",
       "      <td>1.50</td>\n",
       "      <td>NaN</td>\n",
       "    </tr>\n",
       "    <tr>\n",
       "      <th>Software engineering</th>\n",
       "      <td>3.34</td>\n",
       "      <td>NaN</td>\n",
       "      <td>NaN</td>\n",
       "      <td>4.04</td>\n",
       "      <td>NaN</td>\n",
       "      <td>4.38</td>\n",
       "      <td>NaN</td>\n",
       "      <td>3.62</td>\n",
       "      <td>3.54</td>\n",
       "      <td>4.83</td>\n",
       "      <td>4.74</td>\n",
       "      <td>NaN</td>\n",
       "      <td>3.76</td>\n",
       "      <td>3.86</td>\n",
       "    </tr>\n",
       "    <tr>\n",
       "      <th>Systems programming</th>\n",
       "      <td>5.00</td>\n",
       "      <td>2.54</td>\n",
       "      <td>3.25</td>\n",
       "      <td>4.52</td>\n",
       "      <td>3.57</td>\n",
       "      <td>4.43</td>\n",
       "      <td>2.17</td>\n",
       "      <td>4.38</td>\n",
       "      <td>4.60</td>\n",
       "      <td>5.00</td>\n",
       "      <td>4.22</td>\n",
       "      <td>1.66</td>\n",
       "      <td>2.76</td>\n",
       "      <td>4.67</td>\n",
       "    </tr>\n",
       "  </tbody>\n",
       "</table>\n",
       "</div>"
      ],
      "text/plain": [
       "                             Alan Perlis  Marvin Minsky  John McCarthy  \\\n",
       "Algorithms                           NaN           2.76           3.03   \n",
       "Artificial intelligence             1.46           5.00           5.00   \n",
       "Computation                          NaN           4.32           3.23   \n",
       "Concurrency                          NaN            NaN           3.61   \n",
       "Databases                           2.32            NaN            NaN   \n",
       "Formal methods                       NaN            NaN           3.58   \n",
       "Programming language theory          NaN            NaN           4.72   \n",
       "Software engineering                3.34            NaN            NaN   \n",
       "Systems programming                 5.00           2.54           3.25   \n",
       "\n",
       "                             Edsger Dijkstra  Donald Knuth  John Backus  \\\n",
       "Algorithms                              4.92          5.00          NaN   \n",
       "Artificial intelligence                  NaN           NaN          NaN   \n",
       "Computation                              NaN          4.39          NaN   \n",
       "Concurrency                             3.97           NaN          NaN   \n",
       "Databases                                NaN           NaN         2.80   \n",
       "Formal methods                          5.00           NaN         2.42   \n",
       "Programming language theory             4.34          4.33         4.58   \n",
       "Software engineering                    4.04           NaN         4.38   \n",
       "Systems programming                     4.52          3.57         4.43   \n",
       "\n",
       "                             Robert Floyd  Tony Hoare  Edgar Codd  \\\n",
       "Algorithms                           5.00        4.38         NaN   \n",
       "Artificial intelligence               NaN         NaN         NaN   \n",
       "Computation                          3.18         NaN         NaN   \n",
       "Concurrency                          2.92        4.88        4.28   \n",
       "Databases                             NaN         NaN        5.00   \n",
       "Formal methods                       5.00        4.72        1.53   \n",
       "Programming language theory          4.24        4.64         NaN   \n",
       "Software engineering                  NaN        3.62        3.54   \n",
       "Systems programming                  2.17        4.38        4.60   \n",
       "\n",
       "                             Dennis Ritchie  Niklaus Wirth  Robin Milner  \\\n",
       "Algorithms                              NaN           3.95           NaN   \n",
       "Artificial intelligence                 NaN            NaN           NaN   \n",
       "Computation                             NaN            NaN           NaN   \n",
       "Concurrency                             NaN            NaN          4.62   \n",
       "Databases                               NaN            NaN           NaN   \n",
       "Formal methods                          NaN           3.83          3.94   \n",
       "Programming language theory            3.45           4.23          5.00   \n",
       "Software engineering                   4.83           4.74           NaN   \n",
       "Systems programming                    5.00           4.22          1.66   \n",
       "\n",
       "                             Leslie Lamport  Michael Stonebraker  \n",
       "Algorithms                             4.63                  NaN  \n",
       "Artificial intelligence                 NaN                  NaN  \n",
       "Computation                             NaN                  NaN  \n",
       "Concurrency                            5.00                 4.14  \n",
       "Databases                               NaN                 5.00  \n",
       "Formal methods                         4.93                  NaN  \n",
       "Programming language theory            1.50                  NaN  \n",
       "Software engineering                   3.76                 3.86  \n",
       "Systems programming                    2.76                 4.67  "
      ]
     },
     "execution_count": 3,
     "metadata": {},
     "output_type": "execute_result"
    }
   ],
   "source": [
    "df = pd.DataFrame(data)\n",
    "df"
   ]
  },
  {
   "cell_type": "markdown",
   "metadata": {},
   "source": [
    "## Euclidean distance\n",
    "- [0, 1]:\n",
    "    + 0 = most similar\n",
    "    + 1 = least similar\n",
    "![](./img/Euclide_distance.jpg \"\")"
   ]
  },
  {
   "cell_type": "code",
   "execution_count": 4,
   "metadata": {},
   "outputs": [],
   "source": [
    "def euclidean_similarity(person1, person2):\n",
    "\n",
    "    common_ranked_items = [itm for itm in data[person1] if itm in data[person2]]\n",
    "    rankings = [(data[person1][itm], data[person2][itm]) for itm in common_ranked_items]\n",
    "    distance = [pow(rank[0] - rank[1], 2) for rank in rankings]\n",
    "\n",
    "    return 1 / (1 + sum(distance))"
   ]
  },
  {
   "cell_type": "code",
   "execution_count": 5,
   "metadata": {},
   "outputs": [
    {
     "data": {
      "text/plain": [
       "0.09717700791992614"
      ]
     },
     "execution_count": 5,
     "metadata": {},
     "output_type": "execute_result"
    }
   ],
   "source": [
    "euclidean_similarity('Robin Milner', 'Michael Stonebraker')"
   ]
  },
  {
   "cell_type": "code",
   "execution_count": 6,
   "metadata": {},
   "outputs": [
    {
     "data": {
      "text/plain": [
       "0.06416631909910489"
      ]
     },
     "execution_count": 6,
     "metadata": {},
     "output_type": "execute_result"
    }
   ],
   "source": [
    "euclidean_similarity('Robin Milner', 'Leslie Lamport')"
   ]
  },
  {
   "cell_type": "markdown",
   "metadata": {},
   "source": [
    "## Pearson correlation coefficient\n",
    "- [-1, 1]\n",
    "    + -1: Negative correlation\n",
    "    + 0: Non correlation\n",
    "    + 1: Possitive correlation"
   ]
  },
  {
   "cell_type": "code",
   "execution_count": 7,
   "metadata": {},
   "outputs": [],
   "source": [
    "def pearson_similarity(person1, person2):\n",
    "\n",
    "    common_ranked_items = [itm for itm in data[person1] if itm in data[person2]]\n",
    "\n",
    "    n = len(common_ranked_items)\n",
    "\n",
    "    s1 = sum([data[person1][item] for item in common_ranked_items])\n",
    "    s2 = sum([data[person2][item] for item in common_ranked_items])\n",
    "\n",
    "    ss1 = sum([pow(data[person1][item], 2) for item in common_ranked_items])\n",
    "    ss2 = sum([pow(data[person2][item], 2) for item in common_ranked_items])\n",
    "\n",
    "    ps = sum([data[person1][item] * data[person2][item] for item in common_ranked_items])\n",
    "\n",
    "    num = n * ps - (s1 * s2)\n",
    "\n",
    "    den = math.sqrt((n * ss1 - math.pow(s1, 2)) * (n * ss2 - math.pow(s2, 2)))\n",
    "\n",
    "    return (num / den) if den != 0 else 0"
   ]
  },
  {
   "cell_type": "code",
   "execution_count": 8,
   "metadata": {},
   "outputs": [
    {
     "data": {
      "text/plain": [
       "-0.9999999999999675"
      ]
     },
     "execution_count": 8,
     "metadata": {},
     "output_type": "execute_result"
    }
   ],
   "source": [
    "pearson_similarity('Robin Milner', 'Michael Stonebraker')"
   ]
  },
  {
   "cell_type": "code",
   "execution_count": 9,
   "metadata": {},
   "outputs": [
    {
     "data": {
      "text/plain": [
       "0.07959368299554316"
      ]
     },
     "execution_count": 9,
     "metadata": {},
     "output_type": "execute_result"
    }
   ],
   "source": [
    "pearson_similarity('Robin Milner', 'Leslie Lamport')"
   ]
  },
  {
   "cell_type": "markdown",
   "metadata": {},
   "source": [
    "## Recommender algo"
   ]
  },
  {
   "cell_type": "code",
   "execution_count": 10,
   "metadata": {},
   "outputs": [],
   "source": [
    "def recommend(person, bound, similarity=pearson_similarity):\n",
    "    scores = [(similarity(person, other), other) for other in data if other != person]\n",
    "\n",
    "    scores.sort()\n",
    "    scores.reverse()\n",
    "    scores = scores[0:bound]\n",
    "\n",
    "    print (scores)\n",
    "\n",
    "    recomms = {}\n",
    "\n",
    "    for sim, other in scores:\n",
    "        ranked = data[other]\n",
    "\n",
    "        for itm in ranked:\n",
    "            if itm not in data[person]:\n",
    "                weight = sim * ranked[itm]\n",
    "\n",
    "                if itm in recomms:\n",
    "                    s, weights = recomms[itm]\n",
    "                    recomms[itm] = (s + sim, weights + [weight])\n",
    "                else:\n",
    "                    recomms[itm] = (sim, [weight])\n",
    "\n",
    "    for r in recomms:\n",
    "        sim, item = recomms[r]\n",
    "        recomms[r] = sum(item) / sim\n",
    "\n",
    "    return recomms"
   ]
  },
  {
   "cell_type": "code",
   "execution_count": 11,
   "metadata": {},
   "outputs": [
    {
     "data": {
      "text/plain": [
       "Algorithms                      NaN\n",
       "Artificial intelligence         NaN\n",
       "Computation                     NaN\n",
       "Concurrency                    4.62\n",
       "Databases                       NaN\n",
       "Formal methods                 3.94\n",
       "Programming language theory    5.00\n",
       "Software engineering            NaN\n",
       "Systems programming            1.66\n",
       "Name: Robin Milner, dtype: float64"
      ]
     },
     "execution_count": 11,
     "metadata": {},
     "output_type": "execute_result"
    }
   ],
   "source": [
    "df['Robin Milner']"
   ]
  },
  {
   "cell_type": "code",
   "execution_count": 12,
   "metadata": {},
   "outputs": [
    {
     "name": "stdout",
     "output_type": "stream",
     "text": [
      "[(1.000000000000001, 'Donald Knuth'), (0.8158355178279424, 'Tony Hoare'), (0.7281314060872898, 'John McCarthy')]\n"
     ]
    },
    {
     "data": {
      "text/plain": [
       "{'Computation': 3.9012452513240232,\n",
       " 'Algorithms': 4.237318350012504,\n",
       " 'Software engineering': 3.62,\n",
       " 'Artificial intelligence': 5.0}"
      ]
     },
     "execution_count": 12,
     "metadata": {},
     "output_type": "execute_result"
    }
   ],
   "source": [
    "recommend('Robin Milner', 3,similarity=pearson_similarity)"
   ]
  },
  {
   "cell_type": "code",
   "execution_count": 13,
   "metadata": {},
   "outputs": [
    {
     "name": "stdout",
     "output_type": "stream",
     "text": [
      "[(0.563570784490532, 'Marvin Minsky'), (0.21025188175434167, 'John McCarthy'), (0.1961938395134393, 'Donald Knuth')]\n"
     ]
    },
    {
     "data": {
      "text/plain": [
       "{'Artificial intelligence': 5.0,\n",
       " 'Computation': 4.097899673802076,\n",
       " 'Algorithms': 3.271581200565074}"
      ]
     },
     "execution_count": 13,
     "metadata": {},
     "output_type": "execute_result"
    }
   ],
   "source": [
    "recommend('Robin Milner', 3,similarity=euclidean_similarity)"
   ]
  }
 ],
 "metadata": {
  "kernelspec": {
   "display_name": "Python 3",
   "language": "python",
   "name": "python3"
  },
  "language_info": {
   "codemirror_mode": {
    "name": "ipython",
    "version": 3
   },
   "file_extension": ".py",
   "mimetype": "text/x-python",
   "name": "python",
   "nbconvert_exporter": "python",
   "pygments_lexer": "ipython3",
   "version": "3.6.6"
  }
 },
 "nbformat": 4,
 "nbformat_minor": 2
}
