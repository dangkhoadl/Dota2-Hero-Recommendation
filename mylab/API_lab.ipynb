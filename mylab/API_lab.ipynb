{
 "cells": [
  {
   "cell_type": "markdown",
   "metadata": {},
   "source": [
    "## OpenDota API"
   ]
  },
  {
   "cell_type": "code",
   "execution_count": 1,
   "metadata": {},
   "outputs": [],
   "source": [
    "import requests\n",
    "import json"
   ]
  },
  {
   "cell_type": "code",
   "execution_count": 2,
   "metadata": {},
   "outputs": [],
   "source": [
    "# MY_API = '33f51807-417b-4c12-b24b-05c911fb874c'\n",
    "MY_API = ''"
   ]
  },
  {
   "cell_type": "code",
   "execution_count": 3,
   "metadata": {},
   "outputs": [],
   "source": [
    "OPEN_DOTA_PLAYER = 'https://api.opendota.com/api/players/{}/?api_key=' + MY_API\n",
    "OPEN_DOTA_WL = 'https://api.opendota.com/api/players/{}/wl?date={}&api_key=' + MY_API"
   ]
  },
  {
   "cell_type": "code",
   "execution_count": 4,
   "metadata": {},
   "outputs": [],
   "source": [
    "def get_player_response(player_id):\n",
    "    '''Get player data request'''\n",
    "    try:\n",
    "        response = requests.get(OPEN_DOTA_PLAYER.format(str(player_id)))\n",
    "        data_json = json.loads(response.content.decode('utf-8'))\n",
    "    except:\n",
    "        data_json = None\n",
    "    return data_json\n",
    "\n",
    "\n",
    "def get_win_lose_response(player_id, period='w'):\n",
    "    '''Get win lose stats by week/month/year'''\n",
    "    try:\n",
    "        days = 7\n",
    "        if period == 'w':\n",
    "            days = 7\n",
    "        elif period == 'm':\n",
    "            days = 30\n",
    "        elif period == 'y':\n",
    "            days = 365\n",
    "        else:\n",
    "            days = 7\n",
    "        response = requests.get(OPEN_DOTA_WL.format(str(player_id), str(days)))\n",
    "        data_json = json.loads(response.content.decode('utf-8'))\n",
    "    except:\n",
    "        data_json = None\n",
    "    return data_json"
   ]
  },
  {
   "cell_type": "code",
   "execution_count": 5,
   "metadata": {},
   "outputs": [],
   "source": [
    "def calculate_winrate(win, lose, period='week'):\n",
    "    try:\n",
    "        if (win + lose) == 0:\n",
    "            return 'Not played since last ' + period\n",
    "        result = str(round(\n",
    "            float(win) * 100.0 / \n",
    "            (float(win) + float(lose)), 2)) + ' %'\n",
    "    except:\n",
    "        result = None\n",
    "    return result\n",
    "\n",
    "\n",
    "def get_player(player_id):\n",
    "    '''Print player attributes'''\n",
    "    try:\n",
    "        player_data = get_player_response(player_id)\n",
    "\n",
    "        wl_w_data = get_win_lose_response(player_id, 'w')\n",
    "        w_winrate = calculate_winrate(wl_w_data['win'], wl_w_data['lose'], 'week')\n",
    "\n",
    "        wl_m_data = get_win_lose_response(player_id, 'm')\n",
    "        m_winrate = calculate_winrate(wl_m_data['win'], wl_m_data['lose'], 'month')\n",
    "        \n",
    "        wl_y_data = get_win_lose_response(player_id, 'y')\n",
    "        y_winrate = calculate_winrate(wl_y_data['win'], wl_y_data['lose'], 'year')\n",
    "\n",
    "        print('''\n",
    "id: {0}\n",
    "player name: {1}\n",
    "dotabuff: https://www.dotabuff.com/players/{0}\n",
    "winrate last week: {2}\n",
    "winrate last month: {3}\n",
    "winrate last year: {4}\n",
    "            '''.format(\n",
    "                player_data['profile']['account_id'],\n",
    "                player_data['profile']['personaname'],\n",
    "                w_winrate,\n",
    "                m_winrate,\n",
    "                y_winrate))\n",
    "    except:\n",
    "        print('Player not found!!!')"
   ]
  },
  {
   "cell_type": "code",
   "execution_count": 6,
   "metadata": {
    "scrolled": true
   },
   "outputs": [
    {
     "name": "stdout",
     "output_type": "stream",
     "text": [
      "\n",
      "id: 110846936\n",
      "player name: Matt\n",
      "dotabuff: https://www.dotabuff.com/players/110846936\n",
      "winrate last week: 60.0 %\n",
      "winrate last month: 70.37 %\n",
      "winrate last year: 51.19 %\n",
      "            \n"
     ]
    }
   ],
   "source": [
    "get_player(110846936)"
   ]
  },
  {
   "cell_type": "code",
   "execution_count": 7,
   "metadata": {},
   "outputs": [
    {
     "name": "stdout",
     "output_type": "stream",
     "text": [
      "\n",
      "id: 115202971\n",
      "player name: Im too old for this game\n",
      "dotabuff: https://www.dotabuff.com/players/115202971\n",
      "winrate last week: Not played since last week\n",
      "winrate last month: 40.0 %\n",
      "winrate last year: 35.29 %\n",
      "            \n"
     ]
    }
   ],
   "source": [
    "get_player(115202971)"
   ]
  },
  {
   "cell_type": "markdown",
   "metadata": {},
   "source": [
    "## Search player name"
   ]
  },
  {
   "cell_type": "code",
   "execution_count": 8,
   "metadata": {},
   "outputs": [],
   "source": [
    "SEARCH_NAME = 'https://api.opendota.com/api/search/?q={}&api_key=' + MY_API"
   ]
  },
  {
   "cell_type": "code",
   "execution_count": 9,
   "metadata": {},
   "outputs": [],
   "source": [
    "def get_search_response(player_name):\n",
    "    '''search player by name'''\n",
    "    try:\n",
    "        response = requests.get(SEARCH_NAME.format(str(player_name)))\n",
    "        data_json = json.loads(response.content.decode('utf-8'))\n",
    "    except:\n",
    "        data_json = None\n",
    "    return data_json\n",
    "\n",
    "def search_name(player_name):\n",
    "    '''return the first player'''\n",
    "    try:\n",
    "        data = get_search_response(str(player_name))\n",
    "        if data == [] or data == None:\n",
    "            result = 'Player not found'\n",
    "        else:\n",
    "            result = data[0]['account_id']\n",
    "    except:\n",
    "        result = 'Player not found'\n",
    "    return result"
   ]
  },
  {
   "cell_type": "code",
   "execution_count": 10,
   "metadata": {},
   "outputs": [
    {
     "name": "stdout",
     "output_type": "stream",
     "text": [
      "\n",
      "id: 134848734\n",
      "player name: Liquid.Miracle-\n",
      "dotabuff: https://www.dotabuff.com/players/134848734\n",
      "winrate last week: Not played since last week\n",
      "winrate last month: 68.75 %\n",
      "winrate last year: 56.31 %\n",
      "            \n"
     ]
    }
   ],
   "source": [
    "get_player(search_name('Liquid.Miracle-'))"
   ]
  }
 ],
 "metadata": {
  "kernelspec": {
   "display_name": "Python 3",
   "language": "python",
   "name": "python3"
  },
  "language_info": {
   "codemirror_mode": {
    "name": "ipython",
    "version": 3
   },
   "file_extension": ".py",
   "mimetype": "text/x-python",
   "name": "python",
   "nbconvert_exporter": "python",
   "pygments_lexer": "ipython3",
   "version": "3.6.6"
  }
 },
 "nbformat": 4,
 "nbformat_minor": 2
}
